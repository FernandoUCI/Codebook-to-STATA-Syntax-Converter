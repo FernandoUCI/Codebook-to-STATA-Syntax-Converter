{
 "cells": [
  {
   "cell_type": "markdown",
   "metadata": {},
   "source": [
    "### Importing OS and CSV modules"
   ]
  },
  {
   "cell_type": "code",
   "execution_count": 12,
   "metadata": {},
   "outputs": [],
   "source": [
    "# list files in a directory using :os.path.join\n",
    "import os\n",
    "\n",
    "# import csv files\n",
    "import csv"
   ]
  },
  {
   "cell_type": "markdown",
   "metadata": {},
   "source": [
    "### Importing CSV file \n",
    "In order to import your codebook, first ensure that it is saved as a csv file.\n",
    "\n",
    "Under 'data_dir', replace the path name with the path your csv file is located in.\n",
    "\n",
    "Under 'csv_file', replace \"codebook_file.csv\" with the name of your csv file."
   ]
  },
  {
   "cell_type": "code",
   "execution_count": 13,
   "metadata": {},
   "outputs": [
    {
     "data": {
      "text/plain": [
       "str"
      ]
     },
     "execution_count": 13,
     "metadata": {},
     "output_type": "execute_result"
    }
   ],
   "source": [
    "# file directory\n",
    "data_dir = \"/Users/fernanr1/Google Drive/Python Workspace/Codebook Converter - 11-15-17/\"\n",
    "\n",
    "# file name\n",
    "csv_file = os.path.join(data_dir, \"codebook_file.csv\")\n",
    "type(csv_file)\n"
   ]
  },
  {
   "cell_type": "markdown",
   "metadata": {},
   "source": [
    "Checking that we are able to successfully read the first colum of our CSV file"
   ]
  },
  {
   "cell_type": "code",
   "execution_count": 14,
   "metadata": {},
   "outputs": [
    {
     "name": "stdout",
     "output_type": "stream",
     "text": [
      "variable\n",
      "pre_ma3\n",
      "pre_pav6\n",
      "pre_ma5\n",
      "pre_int\n",
      "pre_eng\n"
     ]
    }
   ],
   "source": [
    "with open(csv_file, 'r') as f:\n",
    "    reader = csv.reader(f, delimiter = ',') # saving contents to variable 'reader'\n",
    "    for line in reader:\n",
    "        print line[0] # reading the first colum "
   ]
  },
  {
   "cell_type": "markdown",
   "metadata": {},
   "source": [
    "We can also use the .join() to list everything with a \"--\" seperator to easily inspect the contents of our codebook."
   ]
  },
  {
   "cell_type": "code",
   "execution_count": 10,
   "metadata": {},
   "outputs": [
    {
     "name": "stdout",
     "output_type": "stream",
     "text": [
      "variable--item--response option\n",
      "pre_ma3--I like class work best when it really makes me think--1 \"Not at all true\" 2 \"Not true\" 3 \"Somewhat true\" 4 \"True\" 5 \"Very true\"\n",
      "pre_pav6--One reason I would not participate in class is to avoid looking stupid--1 \"Not at all true\" 2 \"Not true\" 3 \"Somewhat true\" 4 \"True\" 5 \"Very true\"\n",
      "pre_ma5--An important reason I do my class work is because I enjoy it--1 \"Not at all true\" 2 \"Not true\" 3 \"Somewhat true\" 4 \"True\" 5 \"Very true\"\n",
      "pre_int--Are you an international student?--1 \"Yes\"  0 \"No\"\n",
      "pre_eng--Is English your native language--1 \"Yes\"  0 \"No\"\n"
     ]
    }
   ],
   "source": [
    "# reading in all colums\n",
    "with open(csv_file, 'r') as f:\n",
    "    reader = csv.reader(f, delimiter = ',') # saving contents to variable 'reader'\n",
    "    for line in reader:\n",
    "        print \"--\" .join(line)"
   ]
  },
  {
   "cell_type": "markdown",
   "metadata": {},
   "source": [
    "\n"
   ]
  },
  {
   "cell_type": "markdown",
   "metadata": {},
   "source": [
    "## Coverting codebook to STATA syntax\n",
    "\n",
    "We see from the above output that our top row has 3 columns.\n",
    "\n",
    "1) Variable, 2) Item, and  3) Response Options\n",
    "\n",
    "<b>Variable</b> contains the variable name of our dataset [index 0]\n",
    "\n",
    "<b>Item</b> contains the question item [index 1]\n",
    "\n",
    "<b>Response Options</b> contains the response options for each question item [index 2]\n",
    "<br><br><br>\n",
    "We will use these three pieces of information to create STATA snytax that does the following:\n",
    "\n",
    "1) Labels the variables using the `variable` and `item` columns.\n",
    "\n",
    "2) Labels the response options to each variable using the `response options` column."
   ]
  },
  {
   "cell_type": "code",
   "execution_count": 11,
   "metadata": {},
   "outputs": [
    {
     "name": "stdout",
     "output_type": "stream",
     "text": [
      "* pre_ma3 DATA LABELING\n",
      "label variable pre_ma3 \"I like class work best when it really makes me think\"\n",
      "label define pre_ma3label 1 \"Not at all true\" 2 \"Not true\" 3 \"Somewhat true\" 4 \"True\" 5 \"Very true\"\n",
      "label values pre_ma3 pre_ma3label\n",
      "\n",
      "* pre_pav6 DATA LABELING\n",
      "label variable pre_pav6 \"One reason I would not participate in class is to avoid looking stupid\"\n",
      "label define pre_pav6label 1 \"Not at all true\" 2 \"Not true\" 3 \"Somewhat true\" 4 \"True\" 5 \"Very true\"\n",
      "label values pre_pav6 pre_pav6label\n",
      "\n",
      "* pre_ma5 DATA LABELING\n",
      "label variable pre_ma5 \"An important reason I do my class work is because I enjoy it\"\n",
      "label define pre_ma5label 1 \"Not at all true\" 2 \"Not true\" 3 \"Somewhat true\" 4 \"True\" 5 \"Very true\"\n",
      "label values pre_ma5 pre_ma5label\n",
      "\n",
      "* pre_int DATA LABELING\n",
      "label variable pre_int \"Are you an international student?\"\n",
      "label define pre_intlabel 1 \"Yes\"  0 \"No\"\n",
      "label values pre_int pre_intlabel\n",
      "\n",
      "* pre_eng DATA LABELING\n",
      "label variable pre_eng \"Is English your native language\"\n",
      "label define pre_englabel 1 \"Yes\"  0 \"No\"\n",
      "label values pre_eng pre_englabel\n",
      "\n"
     ]
    }
   ],
   "source": [
    "with open(csv_file, 'r') as f:\n",
    "    reader = csv.reader(f, delimiter = ',')\n",
    "    header = reader.next()\n",
    "    for line in reader:\n",
    "        labels = str(line[0])+\"label\" # making a label name for STATA\n",
    "        print \"*\", line[0], \"DATA LABELING\"\n",
    "        print \"label variable\", line[0], '\"%s\"' % line[1] # using '\"%s\"' % to enclose item colum  `line[0]` in quotes\n",
    "        print \"label define\", labels, line[2]\n",
    "        print \"label values\", line[0], labels\n",
    "        print(\"\")\n",
    "\n",
    "       \n",
    "    "
   ]
  },
  {
   "cell_type": "code",
   "execution_count": null,
   "metadata": {},
   "outputs": [],
   "source": []
  }
 ],
 "metadata": {
  "kernelspec": {
   "display_name": "Python [default]",
   "language": "python",
   "name": "python2"
  },
  "language_info": {
   "codemirror_mode": {
    "name": "ipython",
    "version": 2
   },
   "file_extension": ".py",
   "mimetype": "text/x-python",
   "name": "python",
   "nbconvert_exporter": "python",
   "pygments_lexer": "ipython2",
   "version": "2.7.13"
  }
 },
 "nbformat": 4,
 "nbformat_minor": 2
}
