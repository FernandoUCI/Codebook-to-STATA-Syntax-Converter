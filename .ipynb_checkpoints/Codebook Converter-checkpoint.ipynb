{
 "cells": [
  {
   "cell_type": "markdown",
   "metadata": {},
   "source": [
    "### Importing OS and CSV modules"
   ]
  },
  {
   "cell_type": "code",
   "execution_count": 21,
   "metadata": {
    "collapsed": true
   },
   "outputs": [],
   "source": [
    "# list files in a directory using :os.path.join\n",
    "import os\n",
    "\n",
    "# import csv files\n",
    "import csv"
   ]
  },
  {
   "cell_type": "markdown",
   "metadata": {},
   "source": [
    "### Importing CSV file \n",
    "In order to import your codebook, first ensure that it is saved as a csv file.\n",
    "\n",
    "Under 'data_dir', replace the path name with the path your csv file is located in.\n",
    "\n",
    "Under 'csv_file', replace \"codebook_file.csv\" with the name of your csv file."
   ]
  },
  {
   "cell_type": "code",
   "execution_count": 22,
   "metadata": {},
   "outputs": [
    {
     "data": {
      "text/plain": [
       "str"
      ]
     },
     "execution_count": 22,
     "metadata": {},
     "output_type": "execute_result"
    }
   ],
   "source": [
    "# file directory\n",
    "data_dir = \"/Users/fernanr1/Google Drive/Python Workspace/Codebook Converter - 11-15-17/\"\n",
    "\n",
    "# file name\n",
    "csv_file = os.path.join(data_dir, \"codebook_file.csv\")\n",
    "type(csv_file)\n"
   ]
  },
  {
   "cell_type": "markdown",
   "metadata": {},
   "source": [
    "Checking that we are able to successfully read the first colum of our CSV file"
   ]
  },
  {
   "cell_type": "code",
   "execution_count": 23,
   "metadata": {},
   "outputs": [
    {
     "name": "stdout",
     "output_type": "stream",
     "text": [
      "variable\n",
      "coursetype\n",
      "pre_status\n",
      "post_status\n",
      "pre_ma3\n",
      "pre_pav6\n",
      "pre_ma5\n",
      "pre_int\n",
      "pre_eng\n"
     ]
    }
   ],
   "source": [
    "with open(csv_file, 'r') as f:\n",
    "    reader = csv.reader(f, delimiter = ',') # saving contents to variable 'reader'\n",
    "    for line in reader:\n",
    "        print line[0] # reading the first colum "
   ]
  },
  {
   "cell_type": "markdown",
   "metadata": {},
   "source": [
    "Getting a list of all of the response options"
   ]
  },
  {
   "cell_type": "code",
   "execution_count": 24,
   "metadata": {},
   "outputs": [
    {
     "name": "stdout",
     "output_type": "stream",
     "text": [
      "1 \"Online\" 0 \"Face-to-face\"\n",
      "1 \"Participated\" 0 \"Did not participate\"\n",
      "1 \"Participated\" 0 \"Did not participate\"\n",
      "1 \"Not at all true\" 2 \"Not true\" 3 \"Somewhat true\" 4 \"True\" 5 \"Very true\"\n",
      "1 \"Not at all true\" 2 \"Not true\" 3 \"Somewhat true\" 4 \"True\" 5 \"Very true\"\n",
      "1 \"Not at all true\" 2 \"Not true\" 3 \"Somewhat true\" 4 \"True\" 5 \"Very true\"\n",
      "1 \"Yes\"  0 \"No\"\n",
      "1 \"Yes\"  0 \"No\"\n"
     ]
    }
   ],
   "source": [
    "with open(csv_file, 'r') as f:\n",
    "    reader = csv.reader(f, delimiter = ',')\n",
    "    header = reader.next()\n",
    "    for line in reader:\n",
    "        responseopt = line[2]\n",
    "        print responseopt\n",
    "            \n",
    "    "
   ]
  },
  {
   "cell_type": "code",
   "execution_count": 25,
   "metadata": {},
   "outputs": [
    {
     "name": "stdout",
     "output_type": "stream",
     "text": [
      "['1 \"Online\" 0 \"Face-to-face\"', '1 \"Participated\" 0 \"Did not participate\"', '1 \"Not at all true\" 2 \"Not true\" 3 \"Somewhat true\" 4 \"True\" 5 \"Very true\"', '1 \"Yes\"  0 \"No\"']\n"
     ]
    }
   ],
   "source": [
    "# Getting a list of unique response options\n",
    "# These will be the values for the key:value pairs\n",
    "responses = []\n",
    "\n",
    "with open(csv_file, 'r') as f:\n",
    "    reader = csv.reader(f, delimiter = ',')\n",
    "    header = reader.next()\n",
    "    for line in reader:\n",
    "        if line[2] not in responses:\n",
    "            responses.append(line[2])\n",
    "            \n",
    "print responses"
   ]
  },
  {
   "cell_type": "code",
   "execution_count": 26,
   "metadata": {},
   "outputs": [
    {
     "name": "stdout",
     "output_type": "stream",
     "text": [
      "['labelname1', 'labelname2', 'labelname3', 'labelname4', 'labelname5', 'labelname6', 'labelname7', 'labelname8', 'labelname9', 'labelname10']\n"
     ]
    }
   ],
   "source": [
    "# Generating 100 labelids which will serve as the keys for the key:value pair\n",
    "labelid = []\n",
    "labelnum = 1\n",
    "for x in range(1, 101):\n",
    "    res = (\"labelname\" + `labelnum`)\n",
    "    labelnum += 1\n",
    "    labelid.append(res)\n",
    "print(labelid[:10])"
   ]
  },
  {
   "cell_type": "markdown",
   "metadata": {},
   "source": [
    "Creating label dictionary by combining the label id (key) and responses (values)"
   ]
  },
  {
   "cell_type": "code",
   "execution_count": 27,
   "metadata": {
    "scrolled": true
   },
   "outputs": [
    {
     "name": "stdout",
     "output_type": "stream",
     "text": [
      "{'labelname4': '1 \"Yes\"  0 \"No\"', 'labelname3': '1 \"Not at all true\" 2 \"Not true\" 3 \"Somewhat true\" 4 \"True\" 5 \"Very true\"', 'labelname2': '1 \"Participated\" 0 \"Did not participate\"', 'labelname1': '1 \"Online\" 0 \"Face-to-face\"'}\n"
     ]
    }
   ],
   "source": [
    "labeldict = dict(zip(labelid, responses))\n",
    "print labeldict\n"
   ]
  },
  {
   "cell_type": "markdown",
   "metadata": {},
   "source": [
    "## Coverting codebook to STATA syntax\n",
    "\n",
    "We see from the above output that our top row has 3 columns.\n",
    "\n",
    "1) Variable, 2) Item, and  3) Response Options\n",
    "\n",
    "<i><b>Variable</i></b> contains the variable name of our dataset [index 0]\n",
    "\n",
    "<i><b>Item</i></b> contains the question item [index 1]\n",
    "\n",
    "<i><b>Response Options</i></b> contains the response options for each question item [index 2]\n",
    "<br><br><br>\n",
    "We will use these three pieces of information to create STATA snytax that does the following:\n",
    "\n",
    "1) define the response options using `response options` column.\n",
    "\n",
    "2) Label the variables names and values using the `variable` and `item` columns.\n"
   ]
  },
  {
   "cell_type": "code",
   "execution_count": 34,
   "metadata": {
    "scrolled": true
   },
   "outputs": [
    {
     "name": "stdout",
     "output_type": "stream",
     "text": [
      "*** DEFINING LABELS FOR EACH UNIQUE RESPONSE OPTIONS ***\n",
      "\n",
      "label define labelname4 1 \"Yes\"  0 \"No\"\n",
      "\n",
      "label define labelname3 1 \"Not at all true\" 2 \"Not true\" 3 \"Somewhat true\" 4 \"True\" 5 \"Very true\"\n",
      "\n",
      "label define labelname2 1 \"Participated\" 0 \"Did not participate\"\n",
      "\n",
      "label define labelname1 1 \"Online\" 0 \"Face-to-face\"\n",
      "\n",
      "\n",
      "\n"
     ]
    }
   ],
   "source": [
    "# 1) Defining the response options\n",
    "print \"*** DEFINING LABELS FOR EACH UNIQUE RESPONSE OPTIONS ***\"\n",
    "print \"\"\n",
    "for x in labeldict:\n",
    "    print \"label define\", x, str(labeldict[x])\n",
    "    print \"\"\n",
    "print \"\"\n",
    "print \"\""
   ]
  },
  {
   "cell_type": "code",
   "execution_count": 32,
   "metadata": {},
   "outputs": [
    {
     "name": "stdout",
     "output_type": "stream",
     "text": [
      "label values labelname4\n",
      "\n"
     ]
    }
   ],
   "source": [
    "# 2) Labeling the variables (example)\n",
    "\n",
    "# identifying matching values in a dictionary and printing out that value\n",
    "# `keylist` refers to the key, and `valuelist` refers to the value for the key-value pair.\n",
    "# The for-loop is saying, for key, value in the dictionary `labeldict.items`\n",
    "## you need the .items method to traverse throught the dictionary\n",
    "## if the value `valuelist` is the same as the text in line[2], then print the key `keylist`\n",
    "\n",
    "for keylist, valuelist in labeldict.items():\n",
    "            if valuelist == str(line[2]):\n",
    "                print \"label values\", keylist\n"
   ]
  },
  {
   "cell_type": "code",
   "execution_count": 30,
   "metadata": {},
   "outputs": [
    {
     "name": "stdout",
     "output_type": "stream",
     "text": [
      "*** DATA LABELING ***\n",
      "\n",
      "* coursetype data label\n",
      "label variable coursetype \"Course type\"\n",
      "label values labelname1\n",
      "\n",
      "* pre_status data label\n",
      "label variable pre_status \"Pre-survey participation status\"\n",
      "label values labelname2\n",
      "\n",
      "* post_status data label\n",
      "label variable post_status \"Post-survey participation status\"\n",
      "label values labelname2\n",
      "\n",
      "* pre_ma3 data label\n",
      "label variable pre_ma3 \"I like class work best when it really makes me think\"\n",
      "label values labelname3\n",
      "\n",
      "* pre_pav6 data label\n",
      "label variable pre_pav6 \"One reason I would not participate in class is to avoid looking stupid\"\n",
      "label values labelname3\n",
      "\n",
      "* pre_ma5 data label\n",
      "label variable pre_ma5 \"An important reason I do my class work is because I enjoy it\"\n",
      "label values labelname3\n",
      "\n",
      "* pre_int data label\n",
      "label variable pre_int \"Are you an international student?\"\n",
      "label values labelname4\n",
      "\n",
      "* pre_eng data label\n",
      "label variable pre_eng \"Is English your native language\"\n",
      "label values labelname4\n",
      "\n"
     ]
    }
   ],
   "source": [
    "# now string to get the right labelnames to print out\n",
    "print \"*** DATA LABELING ***\"\n",
    "print \"\"\n",
    "with open(csv_file, 'r') as f:\n",
    "    reader = csv.reader(f, delimiter = ',')\n",
    "    header = reader.next()\n",
    "    for line in reader:\n",
    "        labels = str(line[0])+\"label\" # making a label name for STATA\n",
    "        print \"*\", line[0], \"data label\"\n",
    "        print \"label variable\", line[0], '\"%s\"' % line[1]\n",
    "        for keylist, valuelist in labeldict.items():\n",
    "            if valuelist == str(line[2]):\n",
    "                print \"label values\", keylist\n",
    "        print\"\""
   ]
  }
 ],
 "metadata": {
  "kernelspec": {
   "display_name": "Python [default]",
   "language": "python",
   "name": "python2"
  },
  "language_info": {
   "codemirror_mode": {
    "name": "ipython",
    "version": 2
   },
   "file_extension": ".py",
   "mimetype": "text/x-python",
   "name": "python",
   "nbconvert_exporter": "python",
   "pygments_lexer": "ipython2",
   "version": "2.7.13"
  }
 },
 "nbformat": 4,
 "nbformat_minor": 2
}
